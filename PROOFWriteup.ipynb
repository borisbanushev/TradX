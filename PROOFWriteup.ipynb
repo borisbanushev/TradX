{
 "cells": [
  {
   "cell_type": "markdown",
   "metadata": {},
   "source": [
    "# Trading Goldman Sachs stock using Machine Learning "
   ]
  },
  {
   "cell_type": "markdown",
   "metadata": {},
   "source": [
    "## 0. Details on the prediction\n",
    "\n",
    "- Used 10 years data on a lot of assets to \"simulate\" the real economic/trading environment:\n",
    "    - more than 120 assets (stocks, derivatives, FI, FX, VIX, economic data, etc),\n",
    "    - more than 500 features (technical indicators, denoising, trend extraction, data drift and anomaly detection, etc),\n",
    "    - fundamental data - news.\n",
    "- I trained the model in the end of 2018 and used it to predict prices throughout 2019, as explained later.\n",
    "\n",
    "- Did a lot of experimentation with the RNNs, including:\n",
    "    - HPO,\n",
    "    - Creating LSTM custom cell,\n",
    "    - Using different variations for Attention,\n",
    "    - Use stacked version, as well as bi-directional.\n",
    "    - **Most importantly**, tuning the algorithm to pay less attention to small price changes, rather focus on longer term price changes - e.g. 10-12 days. Achieved by:\n",
    "        - Experimenting with the attention based on the stock's seasonality,\n",
    "        - Reducing the weight that recent history plays in the resulting prediction (in the custom LSTM cell),\n",
    "        - Rescaling outputs of one layer and cell to another (in the custom LSTM cell),\n",
    "        - Specifically adding long term trends by denoising the data with Fourier transforms and Geometric Brownian motions,\n",
    "        - Redicing the importance of spikes or anomolous training data points."
   ]
  },
  {
   "cell_type": "markdown",
   "metadata": {},
   "source": [
    "## 1. How the prediction works\n",
    "\n",
    "Predict the first 40 days of 2019 - from Jan 1st to Feb 8th. Every time I predict 40 days ahead."
   ]
  },
  {
   "cell_type": "markdown",
   "metadata": {},
   "source": [
    "Based on many tests I've done, the window for prediction is 90 days - meaning:\n",
    "- use the last 90 trading days of 2018 to predict Jan 1st.\n",
    "- move the window 1 day - use the last 89 days of 2018 AND the prediction for Jan 1st, 2019 to predict Jan 2nd, 2019.\n",
    "- move the window 1 day - use the last 88 days of 2018 AND the predictions for Jan 1st and 2nd, 2019 to predict Jan 3rd, 2019.\n",
    "- and so on until we predict 40 days."
   ]
  },
  {
   "cell_type": "markdown",
   "metadata": {},
   "source": [
    "That is how the historical data (for a year) along with the prediction look together. The prediction is shown as pink line."
   ]
  },
  {
   "cell_type": "markdown",
   "metadata": {},
   "source": [
    "<img src=\"imgs/Img1.png\" />"
   ]
  },
  {
   "cell_type": "markdown",
   "metadata": {},
   "source": [
    "# 2. How to use the prediction"
   ]
  },
  {
   "cell_type": "markdown",
   "metadata": {},
   "source": [
    "As mentioned on the call - the ML prediction **IS NOT A TRADING STRATEGY OR SINGAL ON IT'S OWN**.\n",
    "\n",
    "The prediction of the ML model is mixed with other stock analysis methonds - technical analysis (mainly Fibonacci and trends), analyst reports, etc. Once a trading opportunity is identify we **use the prediction to approximate how much the price will move up or down**.\n",
    "\n",
    "So, based on the other analysis and the ML prediction we see that the price will most likely go up."
   ]
  },
  {
   "cell_type": "markdown",
   "metadata": {},
   "source": [
    "## 3. The trading strategy"
   ]
  },
  {
   "cell_type": "markdown",
   "metadata": {},
   "source": [
    "The main usage of the ML prediction is to identify (with some level or probability) how much the price will go up or down. **If, based on the prediction, the price will move up or down more than 10% the we buy or sell**. That is the how we utilize the ML."
   ]
  },
  {
   "cell_type": "markdown",
   "metadata": {},
   "source": [
    "<img src=\"imgs/Img2.png\" />"
   ]
  },
  {
   "cell_type": "markdown",
   "metadata": {},
   "source": [
    "In the image above (*Image 2*) you can see that from the current level (as of Jan 1st, 2019), and our expectation for price surge, that largest increase, predicted, is around 16% (in the blue box). So, the upside is enough to cover the risk and all fees - so I bought on Jan 2nd, at the opening price of  USD 164.33. The predicted high level was around USD 200, so my target was USD 190. USD 190 price level was hit by the stock on Jan 16th."
   ]
  },
  {
   "cell_type": "markdown",
   "metadata": {},
   "source": [
    "There weren't any other price movements of more than 10%, so no more trades for that time frame. The red area on *Image 2* shows the maximing up or down movement after the highest point, but it was not more than 10% - the area in red on Image 2."
   ]
  },
  {
   "cell_type": "markdown",
   "metadata": {},
   "source": [
    "After the 40 days pass, I downloaded the actual prices. This is a plot with the prediction - below in *Image 3*. **The Red line - doesn't use OHLC for the real value just to make the visualisation easier**."
   ]
  },
  {
   "cell_type": "markdown",
   "metadata": {},
   "source": [
    "<img src=\"imgs/Img3.png\" />"
   ]
  },
  {
   "cell_type": "markdown",
   "metadata": {},
   "source": [
    "## 4. Second prediction"
   ]
  },
  {
   "cell_type": "markdown",
   "metadata": {},
   "source": [
    "On Feb 8th, 2019, I retrained the model with the latest data (and all feature engineering) and used the same 90-days-window process to predict the next 40 days. It looks like that: (*Image 4*)"
   ]
  },
  {
   "cell_type": "markdown",
   "metadata": {},
   "source": [
    "<img src=\"imgs/Img4.png\" />"
   ]
  },
  {
   "cell_type": "markdown",
   "metadata": {},
   "source": [
    "And focused on the prediction values only."
   ]
  },
  {
   "cell_type": "markdown",
   "metadata": {},
   "source": [
    "<img src=\"imgs/Img5.png\" />"
   ]
  },
  {
   "cell_type": "markdown",
   "metadata": {},
   "source": [
    "In this 40 days period there were no movements higher than 10% (up or down) predicted - see two examples in *Image 5*."
   ]
  },
  {
   "cell_type": "markdown",
   "metadata": {},
   "source": [
    "After the 40 days passed, and adding the latest data, the chart looks as follows - on *Image 6*."
   ]
  },
  {
   "cell_type": "markdown",
   "metadata": {},
   "source": [
    "<img src=\"imgs/Img6.png\" />"
   ]
  },
  {
   "cell_type": "markdown",
   "metadata": {},
   "source": [
    "# 5. Next predictions\n",
    "\n",
    "Again, same process.\n",
    "\n",
    "There were no up or down movements of more than 10%. So skip to the next prediction period."
   ]
  },
  {
   "cell_type": "markdown",
   "metadata": {},
   "source": [
    "But the next prediction was on April 30th, 2019, and looked like that: on (*Image 7*)"
   ]
  },
  {
   "cell_type": "markdown",
   "metadata": {},
   "source": [
    "<img src=\"imgs/Img7.png\" />"
   ]
  },
  {
   "cell_type": "markdown",
   "metadata": {},
   "source": [
    "In this prediction frame there is a potential for trade. The price is predicted to drop to roughly USD 182 (from the current price at the time of the prediction - 30 April 2019) - see *Image 8* below. So, again, **we use the ML to tell us how much can the price drop**. And again we use other analysis to find support on whether the price will indeed drop.\n",
    "\n",
    "The target of the sell trade was USD 190 (to be conservative)."
   ]
  },
  {
   "cell_type": "markdown",
   "metadata": {},
   "source": [
    "<img src=\"imgs/Img8.png\" />"
   ]
  },
  {
   "cell_type": "markdown",
   "metadata": {},
   "source": [
    "The price was reached within the next 10 days. See *Image 9* below."
   ]
  },
  {
   "cell_type": "markdown",
   "metadata": {},
   "source": [
    "<img src=\"imgs/Img9.png\" />"
   ]
  },
  {
   "cell_type": "markdown",
   "metadata": {},
   "source": [
    "### Several other predictions. Every time traing the model and predicting 40 days."
   ]
  },
  {
   "cell_type": "markdown",
   "metadata": {},
   "source": [
    "<img src=\"imgs/Img10.png\" />"
   ]
  },
  {
   "cell_type": "markdown",
   "metadata": {},
   "source": [
    "<img src=\"imgs/Img11.png\" />"
   ]
  },
  {
   "cell_type": "markdown",
   "metadata": {},
   "source": [
    "# Conclusion"
   ]
  },
  {
   "cell_type": "markdown",
   "metadata": {},
   "source": [
    "1. **The prediction for the whole year didn't come at once** - I started by training the model on 10 years data. Then, using the 90 days window, I predict the first 40 days.\n",
    "2. After the prediction time ends I repeat the process - retrain, and predict, until the end of 2019.\n",
    "3. The ML model works well to predict price because of the assumptions for the markets held in 2019 (i.e. no major, unexpected events - black swans) and we managed to get all important data to simulate the way the company works. **The feature engineering, coming from domain knowledge about the company and what affects it's share price, is much more important than the ML model itself**.\n",
    "4. I used further smoothening (using Fourier transforms) to smoothen the prediction, as I need to get the long term (approximate) price levels - not the exact movements."
   ]
  },
  {
   "cell_type": "markdown",
   "metadata": {},
   "source": [
    "### **Important note**: we mentioned it last time, but to say it again, this predictions will no longer work, because the assumptions (that markets are perfect, price movements reflect fundament incorporated in events, history repeats, etc) no longer hold."
   ]
  }
 ],
 "metadata": {
  "kernelspec": {
   "display_name": "Python 3",
   "language": "python",
   "name": "python3"
  },
  "language_info": {
   "codemirror_mode": {
    "name": "ipython",
    "version": 3
   },
   "file_extension": ".py",
   "mimetype": "text/x-python",
   "name": "python",
   "nbconvert_exporter": "python",
   "pygments_lexer": "ipython3",
   "version": "3.7.4"
  }
 },
 "nbformat": 4,
 "nbformat_minor": 4
}
